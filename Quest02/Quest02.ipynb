{
  "nbformat": 4,
  "nbformat_minor": 0,
  "metadata": {
    "colab": {
      "provenance": [],
      "include_colab_link": true
    },
    "kernelspec": {
      "name": "python3",
      "display_name": "Python 3"
    },
    "language_info": {
      "name": "python"
    }
  },
  "cells": [
    {
      "cell_type": "markdown",
      "metadata": {
        "id": "view-in-github",
        "colab_type": "text"
      },
      "source": [
        "<a href=\"https://colab.research.google.com/github/Isaiah0722/AIFFEL_Quest/blob/main/Quest02/Quest02.ipynb\" target=\"_parent\"><img src=\"https://colab.research.google.com/assets/colab-badge.svg\" alt=\"Open In Colab\"/></a>"
      ]
    },
    {
      "cell_type": "markdown",
      "source": [
        "# Quest 02 ColabTurtle"
      ],
      "metadata": {
        "id": "v8afBV4erkiT"
      }
    },
    {
      "cell_type": "code",
      "execution_count": null,
      "metadata": {
        "colab": {
          "base_uri": "https://localhost:8080/",
          "height": 137
        },
        "id": "2UUSZowerhbP",
        "outputId": "957d6b5d-3107-4278-c088-aa5aa2bdf3d9"
      },
      "outputs": [
        {
          "output_type": "error",
          "ename": "SyntaxError",
          "evalue": "ignored",
          "traceback": [
            "\u001b[0;36m  File \u001b[0;32m\"<ipython-input-9-15b39ffbdd25>\"\u001b[0;36m, line \u001b[0;32m13\u001b[0m\n\u001b[0;31m    (n,m for col in range(n) for row in range(m))\u001b[0m\n\u001b[0m         ^\u001b[0m\n\u001b[0;31mSyntaxError\u001b[0m\u001b[0;31m:\u001b[0m invalid syntax\n"
          ]
        }
      ],
      "source": [
        "# 시작 위치에서 미로 찾기 시작\n",
        "goto(start_x, start_y)\n",
        "solve_maze(start_x, start_y)\n",
        "import pprint\n",
        "pprint.pprint(maze)\n",
        "\n",
        "goto = maze[0][0]\n",
        "solve_maze = maze[4][4]\n",
        "maze = []\n",
        "\n",
        "n, m = map(int, input().split())\n",
        "def maze():\n",
        "    [[0 for i in range(n)] for j in range(m)]"
      ]
    },
    {
      "cell_type": "code",
      "source": [
        "import pprint\n",
        "\n",
        "def create_maze(n, m):\n",
        "    maze = [['#' for _ in range(m)] for _ in range(n)]\n",
        "    return maze\n",
        "\n",
        "def goto(start_x, start_y):\n",
        "    global maze\n",
        "    maze[start_x][start_y] = 'S'\n",
        "\n",
        "def solve_maze(start_x, start_y):\n",
        "    global maze\n",
        "    if start_x < 0 or start_x >= len(maze) or start_y < 0 or start_y >= len(maze[0]):\n",
        "        return False\n",
        "\n",
        "    if maze[start_x][start_y] == 'E':\n",
        "        return True\n",
        "\n",
        "    if maze[start_x][start_y] == '#' or maze[start_x][start_y] == '*':\n",
        "        return False\n",
        "\n",
        "    maze[start_x][start_y] = '*'\n",
        "\n",
        "    if solve_maze(start_x + 1, start_y):\n",
        "        return True\n",
        "    if solve_maze(start_x - 1, start_y):\n",
        "        return True\n",
        "    if solve_maze(start_x, start_y + 1):\n",
        "        return True\n",
        "    if solve_maze(start_x, start_y - 1):\n",
        "        return True\n",
        "\n",
        "    maze[start_x][start_y] = '.'\n",
        "    return False\n",
        "\n",
        "# Taking input from the user\n",
        "n = int(input(\"Enter the number of rows (n): \"))\n",
        "m = int(input(\"Enter the number of columns (m): \"))\n",
        "\n",
        "maze = create_maze(n, m)\n",
        "\n",
        "print(\"Initial Maze:\")\n",
        "pprint.pprint(maze)\n",
        "\n",
        "start_x = int(input(\"Enter the starting row index: \"))\n",
        "start_y = int(input(\"Enter the starting column index: \"))\n",
        "goto(start_x, start_y)\n",
        "\n",
        "end_x = int(input(\"Enter the ending row index: \"))\n",
        "end_y = int(input(\"Enter the ending column index: \"))\n",
        "maze[end_x][end_y] = 'E'\n",
        "\n",
        "print(\"Maze after setting the start and end points:\")\n",
        "pprint.pprint(maze)\n",
        "\n",
        "solve_maze(start_x, start_y)\n",
        "\n",
        "print(\"Maze after solving:\")\n",
        "pprint.pprint(maze)\n"
      ],
      "metadata": {
        "id": "XjV5AdwQDk_k",
        "outputId": "70b9ea14-6df5-44fb-ff1f-52168dc3c437",
        "colab": {
          "base_uri": "https://localhost:8080/"
        }
      },
      "execution_count": null,
      "outputs": [
        {
          "output_type": "stream",
          "name": "stdout",
          "text": [
            "Enter the number of rows (n): 5\n",
            "Enter the number of columns (m): 5\n",
            "Initial Maze:\n",
            "[['#', '#', '#', '#', '#'],\n",
            " ['#', '#', '#', '#', '#'],\n",
            " ['#', '#', '#', '#', '#'],\n",
            " ['#', '#', '#', '#', '#'],\n",
            " ['#', '#', '#', '#', '#']]\n",
            "Enter the starting row index: 0\n",
            "Enter the starting column index: 0\n",
            "Enter the ending row index: 4\n",
            "Enter the ending column index: 4\n",
            "Maze after setting the start and end points:\n",
            "[['S', '#', '#', '#', '#'],\n",
            " ['#', '#', '#', '#', '#'],\n",
            " ['#', '#', '#', '#', '#'],\n",
            " ['#', '#', '#', '#', '#'],\n",
            " ['#', '#', '#', '#', 'E']]\n",
            "Maze after solving:\n",
            "[['.', '#', '#', '#', '#'],\n",
            " ['#', '#', '#', '#', '#'],\n",
            " ['#', '#', '#', '#', '#'],\n",
            " ['#', '#', '#', '#', '#'],\n",
            " ['#', '#', '#', '#', 'E']]\n"
          ]
        }
      ]
    },
    {
      "cell_type": "code",
      "source": [
        "def can_go(start, end, map_=None):\n",
        "\n",
        "  arr = [start]\n",
        "  while len(arr) !=0:\n",
        "    now_position = arr.pop(0)\n",
        "    map_[now_position[0]][now_position[1]] = 2\n",
        "\n",
        "    arr = search_and_update(now_position, map_, arr)\n",
        "    if end in arr : return True\n",
        "  return False\n",
        "\n",
        "map_1 = [[0,1,1,1,1],[0,0,1,1,1],[1,0,0,0,1],[0,0,1,0,0],[0,0,0,0,1]]\n",
        "map_2 = [[0,1,1,1,1],[0,0,1,1,1],[1,0,0,0,1],[0,0,1,0,0],[0,0,0,0,0]]\n",
        "\n",
        "def search_and_update(now_pos, now_map, now_arr):\n",
        "  h, w = len(now_map), len(now_map[0])\n",
        "  now_x, now_y = now_pos\n",
        "  if now_map[max(now_x-1,0)][now_y] ==0:\n",
        "    now_arr.append([max(now_x-1, 0), now_y])\n",
        "  if now_map[now_x][max(now_y-1, 0)] == 0:\n",
        "    now_arr.append([min(now_x+1, h-1), now_y])\n",
        "  if now_map[min(now_x+1, h-1)][now_y] == 0:\n",
        "    now_arr.append([min(now_x+1, h-1), now_y])\n",
        "  if now_map[now_x][min(now_y+1, w-1)] == 0:\n",
        "    now_arr.append([now_x, min(now_y+1, w-1)])\n",
        "  return now_arr\n",
        "\n",
        "result = can_go([0,0], [4,4], map_2)\n",
        "print(result)\n"
      ],
      "metadata": {
        "id": "D5_CyzvWItg_",
        "colab": {
          "base_uri": "https://localhost:8080/"
        },
        "outputId": "418eab90-3687-4bca-97d5-8aa7d4a07f7d"
      },
      "execution_count": 7,
      "outputs": [
        {
          "output_type": "stream",
          "name": "stdout",
          "text": [
            "True\n"
          ]
        }
      ]
    }
  ]
}